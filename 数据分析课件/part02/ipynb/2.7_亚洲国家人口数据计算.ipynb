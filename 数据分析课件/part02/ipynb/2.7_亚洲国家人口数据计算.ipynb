{
 "cells": [
  {
   "cell_type": "code",
   "execution_count": 36,
   "metadata": {},
   "outputs": [
    {
     "data": {
      "text/plain": [
       "array(['2015', '2014', '2013', '2012', '2011', '2010', '2009', '2008',\n",
       "       '2007', '2006', '2005', '2004', '2003', '2002', '2001', '2000',\n",
       "       '1999', '1998', '1997', '1996'],\n",
       "      dtype='<U10')"
      ]
     },
     "execution_count": 36,
     "metadata": {},
     "output_type": "execute_result"
    }
   ],
   "source": [
    "import numpy as np\n",
    "\n",
    "# 国家索引\n",
    "country_index = np.array(\n",
    "    open('国际数据主要国家(地区)20年年度数据-utf8.csv').readline()[:-1].split(',')\n",
    ")\n",
    "# 读取人口数据\n",
    "population_data = np.genfromtxt(\n",
    "    '国际数据主要国家(地区)20年年度数据-utf8.csv', \n",
    "    delimiter=',', \n",
    "    skip_header=1, \n",
    "    dtype=np.str\n",
    ")\n",
    "\n",
    "# 时间索引\n",
    "time_index = population_data[:, 0]\n",
    "# 数据行索引\n",
    "time_index"
   ]
  },
  {
   "cell_type": "code",
   "execution_count": 37,
   "metadata": {},
   "outputs": [
    {
     "data": {
      "text/plain": [
       "array(['时间', '阿富汗', '巴林', '孟加拉国', '不丹', '文莱', '缅甸', '柬埔寨', '塞浦路斯', '朝鲜',\n",
       "       '中国香港', '印度', '印度尼西亚', '伊朗', '伊拉克', '以色列', '日本', '约旦', '科威特', '老挝',\n",
       "       '黎巴嫩', '中国澳门', '马来西亚', '马尔代夫', '蒙古', '尼泊尔', '阿曼', '巴基斯坦', '巴勒斯坦',\n",
       "       '菲律宾', '卡塔尔', '沙特阿拉伯', '新加坡', '韩国', '斯里兰卡', '叙利亚', '泰国', '土耳其',\n",
       "       '阿联酋', '也门', '越南', '中国台湾', '东帝汶', '哈萨克斯坦', '吉尔吉斯斯坦', '塔吉克斯坦',\n",
       "       '土库曼斯坦', '乌兹别克斯坦', '马恩岛', '约旦河西岸和加沙'],\n",
       "      dtype='<U8')"
      ]
     },
     "execution_count": 37,
     "metadata": {},
     "output_type": "execute_result"
    }
   ],
   "source": [
    "# 数据列索引\n",
    "country_index"
   ]
  },
  {
   "cell_type": "markdown",
   "metadata": {},
   "source": [
    "#### 1. 计算2015年各个国家人口数据."
   ]
  },
  {
   "cell_type": "code",
   "execution_count": 54,
   "metadata": {},
   "outputs": [
    {
     "name": "stdout",
     "output_type": "stream",
     "text": [
      "2015年各个国家人口数据:\n",
      "--------------------\n",
      "\"时间\"人口为:\t2015\n",
      "\"阿富汗\"人口为:\t32526562\n",
      "\"巴林\"人口为:\t1377237\n",
      "\"孟加拉国\"人口为:\t160995642\n",
      "\"不丹\"人口为:\t774830\n",
      "\"文莱\"人口为:\t423188\n",
      "\"缅甸\"人口为:\t53897154\n",
      "\"柬埔寨\"人口为:\t15577899\n",
      "\"塞浦路斯\"人口为:\t1165300\n",
      "\"朝鲜\"人口为:\t25155317\n"
     ]
    }
   ],
   "source": [
    "year = '2015'\n",
    "\n",
    "# 获取year年所有国家人口数据\n",
    "population_by_year = population_data[time_index == year]\n",
    "# 取前10个国家显示\n",
    "population_by_year = population_by_year[0][:10]\n",
    "\n",
    "# 给数据添加国家名称\n",
    "print('%s年各个国家人口数据:' % year)\n",
    "print('--------------------')\n",
    "\n",
    "for country_name, country_data in zip(country_index, population_by_year):\n",
    "    print('\"%s\"人口为:\\t%s' % (country_name, country_data))"
   ]
  },
  {
   "cell_type": "markdown",
   "metadata": {},
   "source": [
    "#### 2. 计算朝鲜历史各个时期人口数据."
   ]
  },
  {
   "cell_type": "code",
   "execution_count": 60,
   "metadata": {},
   "outputs": [
    {
     "name": "stdout",
     "output_type": "stream",
     "text": [
      "朝鲜各个年份人口数据:\n",
      "-----------------\n",
      "('2015', '25155317')\n",
      "('2014', '25026772')\n",
      "('2013', '24895705')\n",
      "('2012', '24763353')\n",
      "('2011', '24631359')\n",
      "--------------------\n",
      "('2015', '25155317')\n",
      "('2014', '25026772')\n",
      "('2013', '24895705')\n",
      "('2012', '24763353')\n",
      "('2011', '24631359')\n"
     ]
    }
   ],
   "source": [
    "country = '朝鲜'\n",
    "\n",
    "# 方法一\n",
    "# 先查找朝鲜在数组的索引\n",
    "country_where = np.argwhere(country_index == country)[0][0]\n",
    "# 按照索引计算人口数据\n",
    "print('%s各个年份人口数据:' % country)\n",
    "print('-----------------')\n",
    "for data in zip(time_index, population_data[:, country_where][:5]):\n",
    "    print(data)\n",
    "    \n",
    "print('-'*20)\n",
    "    \n",
    "# 方法二\n",
    "for data in zip(time_index, population_data.T[country_index == country][0][:5]):\n",
    "    print(data)"
   ]
  },
  {
   "cell_type": "markdown",
   "metadata": {},
   "source": [
    "#### 3. 计算缅甸2014年的人口数据."
   ]
  },
  {
   "cell_type": "code",
   "execution_count": 73,
   "metadata": {},
   "outputs": [
    {
     "name": "stdout",
     "output_type": "stream",
     "text": [
      "缅甸在2014年人口数据为:53437159.\n"
     ]
    }
   ],
   "source": [
    "country = '缅甸'\n",
    "year = '2014'\n",
    "\n",
    "# 方式一\n",
    "country_data = population_data[time_index == year][0][np.argwhere(country_index == country)[0][0]]\n",
    "# 方式二\n",
    "country_data = population_data.T[country_index == country][0][np.argwhere(time_index == year)[0][0]]\n",
    "\n",
    "print('%s在%s年人口数据为:%s.' % (country, year, country_data))"
   ]
  },
  {
   "cell_type": "markdown",
   "metadata": {},
   "source": [
    "#### 4. 计算每一个国家历史平均人口数据."
   ]
  },
  {
   "cell_type": "code",
   "execution_count": 78,
   "metadata": {},
   "outputs": [
    {
     "name": "stdout",
     "output_type": "stream",
     "text": [
      "各个国家近10年平均人口数据:\n",
      "----------------------\n"
     ]
    },
    {
     "data": {
      "text/plain": [
       "array([  24566255,     961489,  142511842,     650117,     364592,\n",
       "         49912636,   13384934,    1030891,   23752403,    6865960,\n",
       "       1150202417,  228174990,   70450024,   27799113,    7016715,\n",
       "        127318832,    5723731,    2545149,    5842897,    4085650,\n",
       "           487277,   25966300,     331258,    2579777,   25465307,\n",
       "          2798350,  155928633,          0,   86371329,    1179044,\n",
       "         25157752,    4551772,   48298055,   19483750,   18060010,\n",
       "         64970255,   68492236,    5575669,   21019667,   82703935,\n",
       "                0,     984978,   15734151,    5217475,    6965083,\n",
       "          4799654,   26807230,      80731,    3424896], dtype=int32)"
      ]
     },
     "execution_count": 78,
     "metadata": {},
     "output_type": "execute_result"
    }
   ],
   "source": [
    "# 去除第一行时间数据\n",
    "every_country_data = np.delete(population_data.T, 0, axis=0)\n",
    "# 处理数据中的空值为0\n",
    "every_country_data = np.where(every_country_data == '', 0, every_country_data).astype(np.int32)\n",
    "# 计算每一个国家的平均人口数据\n",
    "average_data = np.mean(every_country_data, axis=1).astype(np.int32)\n",
    "\n",
    "print('各个国家近10年平均人口数据:')\n",
    "print('----------------------')\n",
    "for data in zip(country_index[1:], average_data):\n",
    "    # 输出国家对应的平均人口数据\n",
    "    print(data)"
   ]
  },
  {
   "cell_type": "markdown",
   "metadata": {},
   "source": [
    "#### 5. 计算亚洲2015年总人口，及平均人口."
   ]
  },
  {
   "cell_type": "code",
   "execution_count": 24,
   "metadata": {},
   "outputs": [
    {
     "name": "stdout",
     "output_type": "stream",
     "text": [
      "亚洲2015年总人口数据:2977813083, 平均人口数据:60771695.\n"
     ]
    }
   ],
   "source": [
    "year = '2015'\n",
    "\n",
    "# 2015年亚洲各个国家人口数量\n",
    "every_country_data = population_data[time_index == year]\n",
    "# 去除第一条时间数据\n",
    "every_country_data = every_country_data.flatten()[1:]\n",
    "# 处理数据中的缺失值, 并将数据类型转换为数字类型\n",
    "every_country_data = np.where(every_country_data == '', 0, every_country_data).astype(np.int32)\n",
    "# 计算平均值\n",
    "average_data = np.mean(every_country_data)\n",
    "# 计算总人口\n",
    "total_data = np.sum(every_country_data)\n",
    "\n",
    "print('亚洲%s年总人口数据:%d, 平均人口数据:%d.' % (year, total_data, average_data))"
   ]
  },
  {
   "cell_type": "markdown",
   "metadata": {},
   "source": [
    "#### 6. 计算印度、柬埔寨、阿富汗在2011、2012、2013年总人口及平均人口"
   ]
  },
  {
   "cell_type": "code",
   "execution_count": 80,
   "metadata": {},
   "outputs": [
    {
     "name": "stdout",
     "output_type": "stream",
     "text": [
      "2011年印度,柬埔寨,阿富汗总人口:1290848277, 平均人口: 430282759.0.\n",
      "2012年印度,柬埔寨,阿富汗总人口:1308148697, 平均人口: 436049565.667.\n",
      "2013年印度,柬埔寨,阿富汗总人口:1325259938, 平均人口: 441753312.667.\n",
      "2014年印度,柬埔寨,阿富汗总人口:1342247185, 平均人口: 447415728.333.\n"
     ]
    }
   ],
   "source": [
    "# 需要计算的国家和时间列表\n",
    "country_list = ['印度', '柬埔寨', '阿富汗']\n",
    "time_list = ['2011', '2012', '2013']\n",
    "\n",
    "# 计算列表中元素在另外列表中的位置\n",
    "def get_country_index(country_list, country_index):\n",
    "    indexes = []\n",
    "    for country in country_list:\n",
    "        indexes.append(np.argwhere(country_index == country)[0][0])\n",
    "        \n",
    "    return indexes\n",
    "\n",
    "# 计算国家索引\n",
    "multi_country_index = get_country_index(country_list, country_index)\n",
    "# 计算时间索引\n",
    "multi_time_index = get_country_index(time_list, time_index)\n",
    "\n",
    "# 获得在2011、2012、2013年所有国家数据\n",
    "multi_country_data = population_data[multi_time_index]\n",
    "# 获得country_list国家的人口数据\n",
    "multi_country_data = multi_country_data[:, multi_country_index]\n",
    "# 处理数据中的缺失数据\n",
    "multi_country_data = np.where(multi_country_data == '', 0, multi_country_data).astype(np.int32)\n",
    "\n",
    "def show_population_by_time(time_list, country_list):\n",
    "    year_list = np.array(time_list)\n",
    "    for year in time_list:\n",
    "        total = multi_country_data[year_list== year].sum()\n",
    "        average = multi_country_data[year_list == year].mean()\n",
    "        print('%s年%s总人口:%s, 平均人口: %s.' % (year, ','.join(country_list),total, average))\n",
    "\n",
    "# 计算各个时间节点，多个国家总人口和平均人口\n",
    "show_population_by_time(time_list, country_list)"
   ]
  },
  {
   "cell_type": "markdown",
   "metadata": {},
   "source": [
    "#### 7. 计算任意两个国家之间的人口差数据."
   ]
  },
  {
   "cell_type": "code",
   "execution_count": 82,
   "metadata": {},
   "outputs": [
    {
     "name": "stdout",
     "output_type": "stream",
     "text": [
      "\"印度\"和\"乌兹别克斯坦\"两个国家在2015年的人口数量差为:1279751627.\n"
     ]
    }
   ],
   "source": [
    "country1 = '印度'\n",
    "country2 = '乌兹别克斯坦'\n",
    "year = '2015'\n",
    "\n",
    "def get_population_by_time_and_country(country, year):\n",
    "    # 获得指定国家在指定年限的数据\n",
    "    data = population_data[time_index == year].T[country_index == country]\n",
    "    # 处理数据缺失值\n",
    "    data = np.where(data == '', 0, data).astype(np.int32)[0][0]\n",
    "    \n",
    "    return data\n",
    "\n",
    "country1_data = get_population_by_time_and_country(country1, year)\n",
    "country2_data = get_population_by_time_and_country(country2, year)\n",
    "\n",
    "print('\"%s\"和\"%s\"两个国家在%s年的人口数量差为:%d.' \n",
    "      %(country1, country2, year, np.abs(country1_data - country2_data)))"
   ]
  },
  {
   "cell_type": "markdown",
   "metadata": {},
   "source": [
    "##### 8. 计算2015年亚洲人口数量排名前10的国家."
   ]
  },
  {
   "cell_type": "code",
   "execution_count": 27,
   "metadata": {},
   "outputs": [
    {
     "data": {
      "text/plain": [
       "[('印度', 1311050527),\n",
       " ('印度尼西亚', 257563815),\n",
       " ('巴基斯坦', 188924874),\n",
       " ('孟加拉国', 160995642),\n",
       " ('日本', 126958472),\n",
       " ('菲律宾', 100699395),\n",
       " ('越南', 91713300),\n",
       " ('伊朗', 79109272),\n",
       " ('土耳其', 78665830),\n",
       " ('泰国', 67959359)]"
      ]
     },
     "execution_count": 27,
     "metadata": {},
     "output_type": "execute_result"
    }
   ],
   "source": [
    "year = '2015'\n",
    "\n",
    "# 获得指定年份各个国家人口数据\n",
    "all_country_data = population_data[time_index == year][0][1:]\n",
    "# 处理缺失值\n",
    "all_country_data = np.where(all_country_data == '', 0, all_country_data).astype(np.int32)\n",
    "# 计算排序索引\n",
    "sort_index = all_country_data.argsort()\n",
    "# 计算人口数量排序\n",
    "sort_data = all_country_data[sort_index]\n",
    "# 计算人口对应国家名称\n",
    "sort_country = country_index[1:][sort_index]\n",
    "# 显示排序之后国家对应人口\n",
    "all_sorted_data = []\n",
    "for data in zip(sort_country, sort_data):\n",
    "    all_sorted_data.append(data)\n",
    "    \n",
    "# 打印前10名国家信息\n",
    "all_sorted_data[-10:][::-1]"
   ]
  }
 ],
 "metadata": {
  "kernelspec": {
   "display_name": "Python 3",
   "language": "python",
   "name": "python3"
  },
  "language_info": {
   "codemirror_mode": {
    "name": "ipython",
    "version": 3
   },
   "file_extension": ".py",
   "mimetype": "text/x-python",
   "name": "python",
   "nbconvert_exporter": "python",
   "pygments_lexer": "ipython3",
   "version": "3.5.4"
  }
 },
 "nbformat": 4,
 "nbformat_minor": 2
}
